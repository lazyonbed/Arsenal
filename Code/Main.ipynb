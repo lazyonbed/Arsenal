{
 "cells": [
  {
   "cell_type": "code",
   "execution_count": 2,
   "metadata": {},
   "outputs": [],
   "source": [
    "# # Import libraries\n",
    "import pandas as pd # type: ignore\n",
    "import matplotlib.pyplot as plt # type: ignore\n",
    "\n",
    "plt.style.use('dark_background') # I love dark mode."
   ]
  },
  {
   "cell_type": "code",
   "execution_count": 7,
   "metadata": {},
   "outputs": [
    {
     "ename": "SyntaxError",
     "evalue": "(unicode error) 'unicodeescape' codec can't decode bytes in position 2-3: truncated \\UXXXXXXXX escape (2417291828.py, line 1)",
     "output_type": "error",
     "traceback": [
      "\u001b[1;36m  Cell \u001b[1;32mIn[7], line 1\u001b[1;36m\u001b[0m\n\u001b[1;33m    epl_data = pd.read_xlsx('C:\\Users\\sbddev\\Documents\\GitHub\\Arsenal\\Data')\u001b[0m\n\u001b[1;37m                            ^\u001b[0m\n\u001b[1;31mSyntaxError\u001b[0m\u001b[1;31m:\u001b[0m (unicode error) 'unicodeescape' codec can't decode bytes in position 2-3: truncated \\UXXXXXXXX escape\n"
     ]
    }
   ],
   "source": [
    "epl_data = pd.read_xlsx('C:\\Users\\sbddev\\Documents\\GitHub\\Arsenal\\Data') \n",
    "#Case 1: First case is looking at Arsenal wins both Home and Away\n",
    "arsenal_wins = epl_data[\n",
    "    (\n",
    "        ((epl_data['FTR'] == 'H') & (epl_data['HomeTeam'] == 'Arsenal'))  # Home wins\n",
    "        |\n",
    "        ((epl_data['FTR'] == 'A') & (epl_data['AwayTeam'] == 'Arsenal'))  # Away wins\n",
    "    )\n",
    "]\n",
    "\n",
    "# Display the results (optional - customize columns as needed)\n",
    "if not arsenal_wins.empty:\n",
    "    print(arsenal_wins[['HomeTeam', 'AwayTeam', 'FTR', 'Referee']])\n",
    "else:\n",
    "    print(\"No wins found for Arsenal in the data.\")\n",
    "print(\"Arsenal have won\", len(arsenal_wins), \"games\")"
   ]
  },
  {
   "cell_type": "code",
   "execution_count": 1,
   "metadata": {},
   "outputs": [
    {
     "ename": "NameError",
     "evalue": "name 'epl_data' is not defined",
     "output_type": "error",
     "traceback": [
      "\u001b[1;31m---------------------------------------------------------------------------\u001b[0m",
      "\u001b[1;31mNameError\u001b[0m                                 Traceback (most recent call last)",
      "Cell \u001b[1;32mIn[1], line 2\u001b[0m\n\u001b[0;32m      1\u001b[0m \u001b[38;5;66;03m#Case 2: Teams winning at Half time but lost at full time\u001b[39;00m\n\u001b[1;32m----> 2\u001b[0m Winning_loss \u001b[38;5;241m=\u001b[39m \u001b[43mepl_data\u001b[49m[\n\u001b[0;32m      3\u001b[0m     (\n\u001b[0;32m      4\u001b[0m         (epl_data[\u001b[38;5;124m'\u001b[39m\u001b[38;5;124mHTHG\u001b[39m\u001b[38;5;124m'\u001b[39m]) \u001b[38;5;241m<\u001b[39m (epl_data[FTHG])  \u001b[38;5;66;03m# Home team lost winning game\u001b[39;00m\n\u001b[0;32m      5\u001b[0m     )\n\u001b[0;32m      6\u001b[0m ]\n\u001b[0;32m      7\u001b[0m \u001b[38;5;28;01mif\u001b[39;00m \u001b[38;5;129;01mnot\u001b[39;00m arsenal_wins\u001b[38;5;241m.\u001b[39mempty:\n\u001b[0;32m      8\u001b[0m     \u001b[38;5;28mprint\u001b[39m(arsenal_wins[[\u001b[38;5;124m'\u001b[39m\u001b[38;5;124mHomeTeam\u001b[39m\u001b[38;5;124m'\u001b[39m, \u001b[38;5;124m'\u001b[39m\u001b[38;5;124mAwayTeam\u001b[39m\u001b[38;5;124m'\u001b[39m, \u001b[38;5;124m'\u001b[39m\u001b[38;5;124mFTR\u001b[39m\u001b[38;5;124m'\u001b[39m, \u001b[38;5;124m'\u001b[39m\u001b[38;5;124mReferee\u001b[39m\u001b[38;5;124m'\u001b[39m]])\n",
      "\u001b[1;31mNameError\u001b[0m: name 'epl_data' is not defined"
     ]
    }
   ],
   "source": []
  }
 ],
 "metadata": {
  "kernelspec": {
   "display_name": "Python 3",
   "language": "python",
   "name": "python3"
  },
  "language_info": {
   "codemirror_mode": {
    "name": "ipython",
    "version": 3
   },
   "file_extension": ".py",
   "mimetype": "text/x-python",
   "name": "python",
   "nbconvert_exporter": "python",
   "pygments_lexer": "ipython3",
   "version": "3.12.0"
  }
 },
 "nbformat": 4,
 "nbformat_minor": 2
}
