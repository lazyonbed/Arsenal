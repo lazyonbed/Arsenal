{
 "cells": [
  {
   "cell_type": "code",
   "execution_count": 2,
   "metadata": {},
   "outputs": [],
   "source": [
    "# # Import libraries\n",
    "import pandas as pd # type: ignore\n",
    "import matplotlib.pyplot as plt # type: ignore\n",
    "\n",
    "plt.style.use('dark_background') # I love dark mode."
   ]
  },
  {
   "cell_type": "code",
   "execution_count": 62,
   "metadata": {},
   "outputs": [
    {
     "name": "stdout",
     "output_type": "stream",
     "text": [
      "             HomeTeam          AwayTeam  HTHG  HTAG  FTHG FTR      Referee\n",
      "1             Arsenal     Nott'm Forest     2     0     2   H     M Oliver\n",
      "18     Crystal Palace           Arsenal     0     0     0   A      D Coote\n",
      "38            Arsenal        Man United     1     1     3   H     A Taylor\n",
      "47            Everton           Arsenal     0     0     0   A     S Hooper\n",
      "60        Bournemouth           Arsenal     0     2     0   A  M Salisbury\n",
      "79            Arsenal          Man City     0     0     1   H     M Oliver\n",
      "92            Arsenal  Sheffield United     1     0     5   H   T Robinson\n",
      "111           Arsenal           Burnley     1     0     3   H     M Oliver\n",
      "126         Brentford           Arsenal     0     0     0   A   T Robinson\n",
      "130           Arsenal            Wolves     2     0     2   H     P Bankes\n",
      "141             Luton           Arsenal     1     2     3   A    S Barrott\n",
      "165           Arsenal          Brighton     0     0     2   H   T Robinson\n",
      "203           Arsenal    Crystal Palace     2     0     5   H    P Tierney\n",
      "208     Nott'm Forest           Arsenal     0     0     1   A     S Hooper\n",
      "226           Arsenal         Liverpool     1     1     3   H     A Taylor\n",
      "235          West Ham           Arsenal     0     4     0   A     C Pawson\n",
      "239           Burnley           Arsenal     0     2     0   A    J Gillett\n",
      "255           Arsenal         Newcastle     2     0     4   H    P Tierney\n",
      "267  Sheffield United           Arsenal     0     5     0   A    S Barrott\n",
      "272           Arsenal         Brentford     1     1     2   H      R Jones\n",
      "298           Arsenal             Luton     2     0     2   H     C Pawson\n",
      "309          Brighton           Arsenal     0     1     0   A     J Brooks\n",
      "325            Wolves           Arsenal     0     1     0   A    P Tierney\n",
      "330           Arsenal           Chelsea     1     0     5   H     S Hooper\n",
      "344         Tottenham           Arsenal     0     3     2   A     M Oliver\n",
      "348           Arsenal       Bournemouth     1     0     3   H      D Coote\n",
      "Arsenal have won 26 games\n"
     ]
    }
   ],
   "source": [
    "epl_data = pd.read_excel('../Data/epl_data.xlsx') \n",
    "\n",
    "\n",
    "#Case 1: First case is looking at Arsenal wins both Home and Away\n",
    "arsenal_wins = epl_data[\n",
    "    (\n",
    "        ((epl_data['FTR'] == 'H') & (epl_data['HomeTeam'] == 'Arsenal'))  # Home wins\n",
    "        |\n",
    "        ((epl_data['FTR'] == 'A') & (epl_data['AwayTeam'] == 'Arsenal'))  # Away wins\n",
    "    )\n",
    "]\n",
    "#print(arsenal_wins)\n",
    "# Display the results (optional - customize columns as needed)\n",
    "if not arsenal_wins.empty:\n",
    "    print(arsenal_wins[['HomeTeam', 'AwayTeam', 'HTHG', 'HTAG', 'FTHG', 'FTR', 'Referee']])\n",
    "else:\n",
    "    print(\"No wins found for Arsenal in the data.\")\n",
    "print(\"Arsenal have won\", len(arsenal_wins), \"games\")"
   ]
  },
  {
   "cell_type": "code",
   "execution_count": 69,
   "metadata": {},
   "outputs": [
    {
     "name": "stdout",
     "output_type": "stream",
     "text": [
      "           HomeTeam     AwayTeam  HTHG  HTAG  FTHG  FTAG FTR       Referee\n",
      "28        Newcastle    Liverpool     1     0     1     2   A      J Brooks\n",
      "39           Wolves    Liverpool     1     0     1     3   A      M Oliver\n",
      "44         West Ham     Man City     1     0     1     3   A      A Madley\n",
      "81      Bournemouth       Wolves     1     0     1     2   A     P Tierney\n",
      "149       Tottenham     West Ham     1     0     1     2   A   M Salisbury\n",
      "158           Luton     Man City     1     0     1     2   A    T Robinson\n",
      "166       Brentford  Aston Villa     1     0     1     2   A       D Coote\n",
      "185         Everton     Man City     1     0     1     3   A      J Brooks\n",
      "200       Newcastle     Man City     2     1     2     3   A    C Kavanagh\n",
      "237  Crystal Palace      Chelsea     1     0     1     3   A      M Oliver\n",
      "308          Wolves     West Ham     1     0     1     2   A  T Harrington\n"
     ]
    }
   ],
   "source": [
    " #Case 2: Teams that were winning in half time and lost at full time \n",
    " winning_loss = epl_data[\n",
    "    ((epl_data['HTHG']) > (epl_data['HTAG']))\n",
    "    &\n",
    "    ((epl_data['FTHG']) < (epl_data['FTAG']))\n",
    "    ]\n",
    "#when the winning_loss is not empty. Print out the columns as needed in tablular format\n",
    "if not winning_loss.empty:\n",
    "    print(winning_loss[['HomeTeam', 'AwayTeam', 'HTHG', 'HTAG', 'FTHG', 'FTAG', 'FTR', 'Referee']]) \n",
    "else:\n",
    "    print(\"NA\") #added for redundnacy"
   ]
  },
  {
   "cell_type": "code",
   "execution_count": null,
   "metadata": {},
   "outputs": [],
   "source": [
    "#Case 3: Teams that were losing in half time and won at full time\n",
    "loosing_win = epl_data[\n",
    "    ((epl_data['HTHG']) < (epl_data['HTAG']))\n",
    "    &\n",
    "    ((epl_data['FTHG']) > (epl_data['FTAG']))\n",
    "    ]\n",
    "#when the winning_loss is not empty. Print out the columns as needed in tablular format\n",
    "if not loosing_win.empty:\n",
    "    print(loosing_win[['HomeTeam', 'AwayTeam', 'HTHG', 'HTAG', 'FTHG', 'FTAG', 'FTR', 'Referee']]) \n",
    "else:\n",
    "    print(\"NA\") #added for redundnacy"
   ]
  }
 ],
 "metadata": {
  "kernelspec": {
   "display_name": "Python 3",
   "language": "python",
   "name": "python3"
  },
  "language_info": {
   "codemirror_mode": {
    "name": "ipython",
    "version": 3
   },
   "file_extension": ".py",
   "mimetype": "text/x-python",
   "name": "python",
   "nbconvert_exporter": "python",
   "pygments_lexer": "ipython3",
   "version": "3.12.0"
  }
 },
 "nbformat": 4,
 "nbformat_minor": 2
}
