{
 "cells": [
  {
   "cell_type": "code",
   "execution_count": 2,
   "metadata": {},
   "outputs": [],
   "source": [
    "# Import libraries\n",
    "import pandas as pd # type: ignore\n",
    "import matplotlib.pyplot as plt # type: ignore\n",
    "\n",
    "plt.style.use('dark_background') # I love dark mode."
   ]
  },
  {
   "cell_type": "code",
   "execution_count": 99,
   "metadata": {},
   "outputs": [
    {
     "name": "stdout",
     "output_type": "stream",
     "text": [
      "             HomeTeam          AwayTeam FTR      Referee\n",
      "1             Arsenal     Nott'm Forest   H     M Oliver\n",
      "18     Crystal Palace           Arsenal   A      D Coote\n",
      "38            Arsenal        Man United   H     A Taylor\n",
      "47            Everton           Arsenal   A     S Hooper\n",
      "60        Bournemouth           Arsenal   A  M Salisbury\n",
      "79            Arsenal          Man City   H     M Oliver\n",
      "92            Arsenal  Sheffield United   H   T Robinson\n",
      "111           Arsenal           Burnley   H     M Oliver\n",
      "126         Brentford           Arsenal   A   T Robinson\n",
      "130           Arsenal            Wolves   H     P Bankes\n",
      "141             Luton           Arsenal   A    S Barrott\n",
      "165           Arsenal          Brighton   H   T Robinson\n",
      "203           Arsenal    Crystal Palace   H    P Tierney\n",
      "208     Nott'm Forest           Arsenal   A     S Hooper\n",
      "226           Arsenal         Liverpool   H     A Taylor\n",
      "235          West Ham           Arsenal   A     C Pawson\n",
      "239           Burnley           Arsenal   A    J Gillett\n",
      "255           Arsenal         Newcastle   H    P Tierney\n",
      "267  Sheffield United           Arsenal   A    S Barrott\n",
      "272           Arsenal         Brentford   H      R Jones\n",
      "298           Arsenal             Luton   H     C Pawson\n",
      "309          Brighton           Arsenal   A     J Brooks\n",
      "325            Wolves           Arsenal   A    P Tierney\n",
      "330           Arsenal           Chelsea   H     S Hooper\n",
      "344         Tottenham           Arsenal   A     M Oliver\n",
      "348           Arsenal       Bournemouth   H      D Coote\n",
      "Arsenal have won 26 games\n"
     ]
    }
   ],
   "source": [
    "arsenal_wins = epl_data[\n",
    "    (\n",
    "        ((epl_data['FTR'] == 'H') & (epl_data['HomeTeam'] == 'Arsenal'))  # Home wins\n",
    "        |\n",
    "        ((epl_data['FTR'] == 'A') & (epl_data['AwayTeam'] == 'Arsenal'))  # Away wins\n",
    "    )\n",
    "]\n",
    "\n",
    "# Display the results (optional - customize columns as needed)\n",
    "if not arsenal_wins.empty:\n",
    "    print(arsenal_wins[['HomeTeam', 'AwayTeam', 'FTR', 'Referee']])\n",
    "else:\n",
    "    print(\"No wins found for Arsenal in the data.\")\n",
    "print(\"Arsenal have won\", len(arsenal_wins), \"games\")"
   ]
  }
 ],
 "metadata": {
  "kernelspec": {
   "display_name": "Python 3",
   "language": "python",
   "name": "python3"
  },
  "language_info": {
   "codemirror_mode": {
    "name": "ipython",
    "version": 3
   },
   "file_extension": ".py",
   "mimetype": "text/x-python",
   "name": "python",
   "nbconvert_exporter": "python",
   "pygments_lexer": "ipython3",
   "version": "3.12.0"
  }
 },
 "nbformat": 4,
 "nbformat_minor": 2
}
